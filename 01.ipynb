{
 "cells": [
  {
   "metadata": {},
   "cell_type": "markdown",
   "source": [
    "# Функція жадібного алгоритму find_coins_greedy. \n",
    "Ця функція повинна приймати суму, яку потрібно видати покупцеві, і повертати словник із кількістю монет кожного номіналу, що використовуються для формування цієї суми. Наприклад, для суми 113 це буде словник {50: 2, 10: 1, 2: 1, 1: 1}. Алгоритм повинен бути жадібним, тобто спочатку вибирати найбільш доступні номінали монет."
   ],
   "id": "72e76ff529f17742"
  },
  {
   "metadata": {
    "ExecuteTime": {
     "end_time": "2024-07-26T11:19:53.468414Z",
     "start_time": "2024-07-26T11:19:53.464706Z"
    }
   },
   "cell_type": "code",
   "source": "import timeit",
   "id": "4884080d6d20f04b",
   "outputs": [],
   "execution_count": 24
  },
  {
   "cell_type": "code",
   "id": "initial_id",
   "metadata": {
    "collapsed": true,
    "ExecuteTime": {
     "end_time": "2024-07-26T11:32:03.850670Z",
     "start_time": "2024-07-26T11:32:03.846586Z"
    }
   },
   "source": [
    "def find_coins_greedy(total_sum):\n",
    "    coins_list = [50, 25, 10, 5, 2, 1]\n",
    "    coins_dict = {}\n",
    "    while total_sum > 0:\n",
    "        for coin in coins_list:\n",
    "            coin_number = total_sum // coin\n",
    "            total_sum = total_sum - coin_number*coin\n",
    "            if coin_number:\n",
    "                coins_dict[coin] = coin_number\n",
    "    return coins_dict"
   ],
   "outputs": [],
   "execution_count": 35
  },
  {
   "metadata": {
    "ExecuteTime": {
     "end_time": "2024-07-26T11:32:05.006614Z",
     "start_time": "2024-07-26T11:32:05.002944Z"
    }
   },
   "cell_type": "code",
   "source": "print(find_coins_greedy(50456))",
   "id": "9b14e287a8a31257",
   "outputs": [
    {
     "name": "stdout",
     "output_type": "stream",
     "text": [
      "{50: 1009, 5: 1, 1: 1}\n"
     ]
    }
   ],
   "execution_count": 36
  },
  {
   "metadata": {},
   "cell_type": "markdown",
   "source": [
    "# Функція динамічного програмування find_min_coins. \n",
    "Ця функція також повинна приймати суму для видачі решти, але використовувати метод динамічного програмування, щоб знайти мінімальну кількість монет, необхідних для формування цієї суми. Функція повинна повертати словник із номіналами монет та їх кількістю для досягнення заданої суми найефективнішим способом. Наприклад, для суми 113 це буде словник {1: 1, 2: 1, 10: 1, 50: 2}"
   ],
   "id": "76e6195cff640ae9"
  },
  {
   "metadata": {
    "ExecuteTime": {
     "end_time": "2024-07-26T11:21:29.030511Z",
     "start_time": "2024-07-26T11:21:29.024411Z"
    }
   },
   "cell_type": "code",
   "source": [
    "def find_min_coins(total_sum):\n",
    "    coins_list = [50, 25, 10, 5, 2, 1]\n",
    "    array_of_coins = [float('inf')] * (total_sum + 1)\n",
    "    array_of_coins[0] = 0\n",
    "    \n",
    "    for coin in coins_list:\n",
    "        for x in range(coin, total_sum + 1):\n",
    "            array_of_coins[x] = min(array_of_coins[x], array_of_coins[x - coin] + 1)\n",
    "    \n",
    "    coins_dict = {}\n",
    "    current_sum = total_sum\n",
    "    while current_sum > 0:\n",
    "        for coin in coins_list:\n",
    "            if current_sum >= coin and array_of_coins[current_sum - coin] == array_of_coins[current_sum] - 1:\n",
    "                if coin in coins_dict:\n",
    "                    coins_dict[coin] += 1\n",
    "                else:\n",
    "                    coins_dict[coin] = 1\n",
    "                current_sum -= coin\n",
    "                break\n",
    "    \n",
    "    return coins_dict\n"
   ],
   "id": "ea8c388d0ca9f8ea",
   "outputs": [],
   "execution_count": 26
  },
  {
   "metadata": {
    "ExecuteTime": {
     "end_time": "2024-07-26T11:31:31.723130Z",
     "start_time": "2024-07-26T11:31:31.569156Z"
    }
   },
   "cell_type": "code",
   "source": "print(find_min_coins(100000))",
   "id": "bef84777b0fd41da",
   "outputs": [
    {
     "name": "stdout",
     "output_type": "stream",
     "text": [
      "{50: 2000}\n"
     ]
    }
   ],
   "execution_count": 33
  },
  {
   "metadata": {
    "ExecuteTime": {
     "end_time": "2024-07-26T11:32:41.923350Z",
     "start_time": "2024-07-26T11:32:28.339276Z"
    }
   },
   "cell_type": "code",
   "source": [
    "test1 = timeit.timeit('find_coins_greedy(100)', globals=globals(), number=1000)\n",
    "test2 = timeit.timeit('find_min_coins(100)', globals=globals(), number=1000)\n",
    "print(\"Test greedy 100:\",test1)\n",
    "print(\"Test dp 100:\",test2)\n",
    "test3 = timeit.timeit('find_coins_greedy(10000)', globals=globals(), number=1000)\n",
    "test4 = timeit.timeit('find_min_coins(10000)', globals=globals(), number=1000)\n",
    "print(\"Test greedy 10000:\",test3)\n",
    "print(\"Test dp 10000:\",test4)"
   ],
   "id": "4d2aed85508b02b9",
   "outputs": [
    {
     "name": "stdout",
     "output_type": "stream",
     "text": [
      "Test greedy 100: 0.0005398000357672572\n",
      "Test dp 100: 0.10020270000677556\n",
      "Test greedy 10000: 0.0005599000724032521\n",
      "Test dp 10000: 13.477000599959865\n"
     ]
    }
   ],
   "execution_count": 37
  },
  {
   "metadata": {},
   "cell_type": "markdown",
   "source": [
    "# Висновки\n",
    "\n",
    "Жадібний алгоритм показує кращу швидкість роботи, ніж динамічне програмування, завдяки своїй простоті. Динамічне програмування хоча й видає найоптимальніший варіант розв'язання задачі, але витрачає багато часу на створення масиву значень."
   ],
   "id": "aa5f26636e962413"
  }
 ],
 "metadata": {
  "kernelspec": {
   "display_name": "Python 3",
   "language": "python",
   "name": "python3"
  },
  "language_info": {
   "codemirror_mode": {
    "name": "ipython",
    "version": 2
   },
   "file_extension": ".py",
   "mimetype": "text/x-python",
   "name": "python",
   "nbconvert_exporter": "python",
   "pygments_lexer": "ipython2",
   "version": "2.7.6"
  }
 },
 "nbformat": 4,
 "nbformat_minor": 5
}
